{
 "cells": [
  {
   "cell_type": "markdown",
   "metadata": {},
   "source": [
    "# Twitter Sentiment Analysis: Semester Project"
   ]
  },
  {
   "cell_type": "markdown",
   "metadata": {},
   "source": [
    "#### FIRST THING FIRST .... Loading the dataset into dataframe"
   ]
  },
  {
   "cell_type": "code",
   "execution_count": 1,
   "metadata": {},
   "outputs": [],
   "source": [
    "import pandas as pd\n",
    "import matplotlib.pyplot as plt\n",
    "import re\n",
    "import numpy as np\n",
    "from nltk.tokenize import TweetTokenizer\n",
    "from nltk.corpus import stopwords"
   ]
  },
  {
   "cell_type": "code",
   "execution_count": 2,
   "metadata": {},
   "outputs": [],
   "source": [
    "dataset = pd.DataFrame()"
   ]
  },
  {
   "cell_type": "code",
   "execution_count": 3,
   "metadata": {},
   "outputs": [],
   "source": [
    "dataset = pd.read_csv('Tweets_Dataset.txt', delimiter = '\\t', names = ['Seq No','Topic','label', 'Tweet'] )"
   ]
  },
  {
   "cell_type": "code",
   "execution_count": 4,
   "metadata": {},
   "outputs": [
    {
     "data": {
      "text/html": [
       "<div>\n",
       "<style scoped>\n",
       "    .dataframe tbody tr th:only-of-type {\n",
       "        vertical-align: middle;\n",
       "    }\n",
       "\n",
       "    .dataframe tbody tr th {\n",
       "        vertical-align: top;\n",
       "    }\n",
       "\n",
       "    .dataframe thead th {\n",
       "        text-align: right;\n",
       "    }\n",
       "</style>\n",
       "<table border=\"1\" class=\"dataframe\">\n",
       "  <thead>\n",
       "    <tr style=\"text-align: right;\">\n",
       "      <th></th>\n",
       "      <th>Seq No</th>\n",
       "      <th>Topic</th>\n",
       "      <th>label</th>\n",
       "      <th>Tweet</th>\n",
       "    </tr>\n",
       "  </thead>\n",
       "  <tbody>\n",
       "    <tr>\n",
       "      <td>0</td>\n",
       "      <td>801989080477154944</td>\n",
       "      <td>#ArianaGrande</td>\n",
       "      <td>0</td>\n",
       "      <td>#ArianaGrande Ari By Ariana Grande 80% Full ht...</td>\n",
       "    </tr>\n",
       "    <tr>\n",
       "      <td>1</td>\n",
       "      <td>801989272341453952</td>\n",
       "      <td>#ArianaGrande</td>\n",
       "      <td>1</td>\n",
       "      <td>Ariana Grande KIIS FM Yours Truly CD listening...</td>\n",
       "    </tr>\n",
       "    <tr>\n",
       "      <td>2</td>\n",
       "      <td>801990978424962944</td>\n",
       "      <td>#ArianaGrande</td>\n",
       "      <td>1</td>\n",
       "      <td>Ariana Grande White House Easter Egg Roll in W...</td>\n",
       "    </tr>\n",
       "    <tr>\n",
       "      <td>3</td>\n",
       "      <td>801996232553963008</td>\n",
       "      <td>#ArianaGrande</td>\n",
       "      <td>1</td>\n",
       "      <td>#CD #Musics Ariana Grande Sweet Like Candy 3.4...</td>\n",
       "    </tr>\n",
       "    <tr>\n",
       "      <td>4</td>\n",
       "      <td>801998343442407040</td>\n",
       "      <td>#ArianaGrande</td>\n",
       "      <td>1</td>\n",
       "      <td>SIDE TO SIDE 😘 @arianagrande #sidetoside #aria...</td>\n",
       "    </tr>\n",
       "    <tr>\n",
       "      <td>...</td>\n",
       "      <td>...</td>\n",
       "      <td>...</td>\n",
       "      <td>...</td>\n",
       "      <td>...</td>\n",
       "    </tr>\n",
       "    <tr>\n",
       "      <td>11995</td>\n",
       "      <td>805687944241516544</td>\n",
       "      <td>zac efron</td>\n",
       "      <td>0</td>\n",
       "      <td>#ZacEfron and Seth Rogen Are Shirtless and Wea...</td>\n",
       "    </tr>\n",
       "    <tr>\n",
       "      <td>11996</td>\n",
       "      <td>805687959026601984</td>\n",
       "      <td>zac efron</td>\n",
       "      <td>0</td>\n",
       "      <td>5 Incidents of How Zac Efron Is Inspirational ...</td>\n",
       "    </tr>\n",
       "    <tr>\n",
       "      <td>11997</td>\n",
       "      <td>805689537024274434</td>\n",
       "      <td>zac efron</td>\n",
       "      <td>0</td>\n",
       "      <td>Alexandra Daddario on Working with Zac Efron a...</td>\n",
       "    </tr>\n",
       "    <tr>\n",
       "      <td>11998</td>\n",
       "      <td>805692823752146944</td>\n",
       "      <td>zac efron</td>\n",
       "      <td>1</td>\n",
       "      <td>There could be a thousand more Hairspray remak...</td>\n",
       "    </tr>\n",
       "    <tr>\n",
       "      <td>11999</td>\n",
       "      <td>805693136785678336</td>\n",
       "      <td>zac efron</td>\n",
       "      <td>0</td>\n",
       "      <td>@M_acelin To name a few: James Marsden, Nikki ...</td>\n",
       "    </tr>\n",
       "  </tbody>\n",
       "</table>\n",
       "<p>12000 rows × 4 columns</p>\n",
       "</div>"
      ],
      "text/plain": [
       "                   Seq No          Topic  label  \\\n",
       "0      801989080477154944  #ArianaGrande      0   \n",
       "1      801989272341453952  #ArianaGrande      1   \n",
       "2      801990978424962944  #ArianaGrande      1   \n",
       "3      801996232553963008  #ArianaGrande      1   \n",
       "4      801998343442407040  #ArianaGrande      1   \n",
       "...                   ...            ...    ...   \n",
       "11995  805687944241516544      zac efron      0   \n",
       "11996  805687959026601984      zac efron      0   \n",
       "11997  805689537024274434      zac efron      0   \n",
       "11998  805692823752146944      zac efron      1   \n",
       "11999  805693136785678336      zac efron      0   \n",
       "\n",
       "                                                   Tweet  \n",
       "0      #ArianaGrande Ari By Ariana Grande 80% Full ht...  \n",
       "1      Ariana Grande KIIS FM Yours Truly CD listening...  \n",
       "2      Ariana Grande White House Easter Egg Roll in W...  \n",
       "3      #CD #Musics Ariana Grande Sweet Like Candy 3.4...  \n",
       "4      SIDE TO SIDE 😘 @arianagrande #sidetoside #aria...  \n",
       "...                                                  ...  \n",
       "11995  #ZacEfron and Seth Rogen Are Shirtless and Wea...  \n",
       "11996  5 Incidents of How Zac Efron Is Inspirational ...  \n",
       "11997  Alexandra Daddario on Working with Zac Efron a...  \n",
       "11998  There could be a thousand more Hairspray remak...  \n",
       "11999  @M_acelin To name a few: James Marsden, Nikki ...  \n",
       "\n",
       "[12000 rows x 4 columns]"
      ]
     },
     "execution_count": 4,
     "metadata": {},
     "output_type": "execute_result"
    }
   ],
   "source": [
    "dataset.head(-10)"
   ]
  },
  {
   "cell_type": "code",
   "execution_count": 5,
   "metadata": {},
   "outputs": [
    {
     "data": {
      "text/plain": [
       "Seq No    0\n",
       "Topic     0\n",
       "label     0\n",
       "Tweet     0\n",
       "dtype: int64"
      ]
     },
     "execution_count": 5,
     "metadata": {},
     "output_type": "execute_result"
    }
   ],
   "source": [
    "dataset.isnull().sum()"
   ]
  },
  {
   "cell_type": "code",
   "execution_count": 6,
   "metadata": {},
   "outputs": [
    {
     "data": {
      "text/plain": [
       "array([ 0,  1, -1,  2, -2], dtype=int64)"
      ]
     },
     "execution_count": 6,
     "metadata": {},
     "output_type": "execute_result"
    }
   ],
   "source": [
    "dataset['label'].unique()"
   ]
  },
  {
   "cell_type": "code",
   "execution_count": 7,
   "metadata": {},
   "outputs": [],
   "source": [
    "result = dataset.groupby('label').count()"
   ]
  },
  {
   "cell_type": "code",
   "execution_count": 8,
   "metadata": {},
   "outputs": [
    {
     "data": {
      "text/plain": [
       "label\n",
       "-2     175\n",
       "-1    3408\n",
       " 0    5988\n",
       " 1    2308\n",
       " 2     131\n",
       "Name: Tweet, dtype: int64"
      ]
     },
     "execution_count": 8,
     "metadata": {},
     "output_type": "execute_result"
    }
   ],
   "source": [
    "result.Tweet"
   ]
  },
  {
   "cell_type": "code",
   "execution_count": 9,
   "metadata": {},
   "outputs": [
    {
     "data": {
      "image/png": "[encoded data removed]",
      "text/plain": [
       "<Figure size 432x288 with 1 Axes>"
      ]
     },
     "metadata": {
      "needs_background": "light"
     },
     "output_type": "display_data"
    }
   ],
   "source": [
    "plt.bar(result.index,result.Tweet, align='center', alpha=0.5)\n",
    "plt.xticks(result.index)\n",
    "plt.ylabel('Count')\n",
    "plt.show()"
   ]
  },
  {
   "cell_type": "code",
   "execution_count": 10,
   "metadata": {},
   "outputs": [],
   "source": [
    "#Cleaing Tweets"
   ]
  },
  {
   "cell_type": "code",
   "execution_count": 11,
   "metadata": {},
   "outputs": [
    {
     "data": {
      "text/plain": [
       "0    #ArianaGrande Ari By Ariana Grande 80% Full https://t.co/ylhCMETHHW #Singer #Actress https://t.co/lTrb1JQiEA                             \n",
       "1    Ariana Grande KIIS FM Yours Truly CD listening party in Burbank https://t.co/ClQIcx8Z6V #ArianaGrande                                    \n",
       "2    Ariana Grande White House Easter Egg Roll in Washington https://t.co/jdjL9swWM8 #ArianaGrande                                            \n",
       "3    #CD #Musics Ariana Grande Sweet Like Candy 3.4 oz 100 ML Sealed In Box 100% Authenic New https://t.co/oFmp0bOvZy… https://t.co/WIHLch9KtK\n",
       "4    SIDE TO SIDE 😘 @arianagrande #sidetoside #arianagrande #musically #comunidadgay #lgbt🌈  #LOTB… https://t.co/tEd8rftAxV                   \n",
       "Name: Tweet, dtype: object"
      ]
     },
     "execution_count": 11,
     "metadata": {},
     "output_type": "execute_result"
    }
   ],
   "source": [
    "pd.set_option('display.max_colwidth', -1)\n",
    "dataset.Tweet.head()"
   ]
  },
  {
   "cell_type": "code",
   "execution_count": 20,
   "metadata": {},
   "outputs": [],
   "source": [
    "dataset = dataset.drop(['Seq No','Topic'],axis=1)"
   ]
  },
  {
   "cell_type": "code",
   "execution_count": 21,
   "metadata": {},
   "outputs": [
    {
     "name": "stdout",
     "output_type": "stream",
     "text": [
      " Grande  Don t call me  Angle OLALALALA     \n"
     ]
    }
   ],
   "source": [
    "def TidyTweets(string):\n",
    "    # for removing twitter handles\n",
    "    handlepattern = \"@\\w*\"\n",
    "    hashtags = \"^#\"\n",
    "    punctuationpattern = \"[^a-zA-Z]\" \n",
    "    urlpattern = \"http\\S+\"\n",
    "    tweet = re.sub(urlpattern,\" \",string)\n",
    "    tweet = re.sub(handlepattern,\"\",tweet)\n",
    "    tweet = re.sub(punctuationpattern,\" \",tweet)\n",
    "    tweet = re.sub(hashtags,\"\",tweet)\n",
    "    return tweet\n",
    "    \n",
    "#Testing the functionality    \n",
    "a = TidyTweets(\"@ariana Grande @ypu Don't call me #Angle OLALALALA!!   \")\n",
    "print(a)"
   ]
  },
  {
   "cell_type": "code",
   "execution_count": 22,
   "metadata": {},
   "outputs": [],
   "source": [
    "dataset['TidyTweet'] =  dataset['Tweet'].apply(lambda x: TidyTweets(x))"
   ]
  },
  {
   "cell_type": "code",
   "execution_count": 23,
   "metadata": {},
   "outputs": [
    {
     "data": {
      "text/plain": [
       "0         ArianaGrande Ari By Ariana Grande     Full    Singer  Actress                                  \n",
       "1        Ariana Grande KIIS FM Yours Truly CD listening party in Burbank    ArianaGrande                 \n",
       "2        Ariana Grande White House Easter Egg Roll in Washington    ArianaGrande                         \n",
       "3         CD  Musics Ariana Grande Sweet Like Candy     oz     ML Sealed In Box      Authenic New        \n",
       "4        SIDE TO SIDE     sidetoside  arianagrande  musically  comunidadgay  lgbt    LOTB                \n",
       "                                                ...                                                      \n",
       "12005     update  Zac Efron kissing a puppy                                                              \n",
       "12006     zac efron sex pic skins michelle sex                                                           \n",
       "12007    First Look at Neighbors   with Zac Efron Shirtless   PHOTO        zacefron                      \n",
       "12008    zac efron poses nude  lovely libra porn                                                         \n",
       "12009     Fashion  Style The Paperboy  NEW Blu ray Disc  Matthew McConaughey  Zac Efron   NicoleKidman   \n",
       "Name: TidyTweet, Length: 12010, dtype: object"
      ]
     },
     "execution_count": 23,
     "metadata": {},
     "output_type": "execute_result"
    }
   ],
   "source": [
    "dataset.TidyTweet"
   ]
  },
  {
   "cell_type": "code",
   "execution_count": 24,
   "metadata": {},
   "outputs": [],
   "source": [
    "def casefolding_Tweets(tweet):\n",
    "    low=\"\"\n",
    "    for word in tweet:\n",
    "        low += (word.casefold())\n",
    "    return low"
   ]
  },
  {
   "cell_type": "code",
   "execution_count": 25,
   "metadata": {},
   "outputs": [
    {
     "name": "stdout",
     "output_type": "stream",
     "text": [
      "qasdddf\n"
     ]
    }
   ],
   "source": [
    "print(casefolding_Tweets(\"QASDDDF\"))"
   ]
  },
  {
   "cell_type": "code",
   "execution_count": 26,
   "metadata": {},
   "outputs": [],
   "source": [
    "dataset['TidyTweet'] =  dataset['TidyTweet'].apply(lambda x: casefolding_Tweets(x))"
   ]
  },
  {
   "cell_type": "code",
   "execution_count": 27,
   "metadata": {},
   "outputs": [
    {
     "data": {
      "text/html": [
       "<div>\n",
       "<style scoped>\n",
       "    .dataframe tbody tr th:only-of-type {\n",
       "        vertical-align: middle;\n",
       "    }\n",
       "\n",
       "    .dataframe tbody tr th {\n",
       "        vertical-align: top;\n",
       "    }\n",
       "\n",
       "    .dataframe thead th {\n",
       "        text-align: right;\n",
       "    }\n",
       "</style>\n",
       "<table border=\"1\" class=\"dataframe\">\n",
       "  <thead>\n",
       "    <tr style=\"text-align: right;\">\n",
       "      <th></th>\n",
       "      <th>label</th>\n",
       "      <th>Tweet</th>\n",
       "      <th>TidyTweet</th>\n",
       "    </tr>\n",
       "  </thead>\n",
       "  <tbody>\n",
       "    <tr>\n",
       "      <td>0</td>\n",
       "      <td>0</td>\n",
       "      <td>#ArianaGrande Ari By Ariana Grande 80% Full https://t.co/ylhCMETHHW #Singer #Actress https://t.co/lTrb1JQiEA</td>\n",
       "      <td>arianagrande ari by ariana grande     full    singer  actress</td>\n",
       "    </tr>\n",
       "    <tr>\n",
       "      <td>1</td>\n",
       "      <td>1</td>\n",
       "      <td>Ariana Grande KIIS FM Yours Truly CD listening party in Burbank https://t.co/ClQIcx8Z6V #ArianaGrande</td>\n",
       "      <td>ariana grande kiis fm yours truly cd listening party in burbank    arianagrande</td>\n",
       "    </tr>\n",
       "    <tr>\n",
       "      <td>2</td>\n",
       "      <td>1</td>\n",
       "      <td>Ariana Grande White House Easter Egg Roll in Washington https://t.co/jdjL9swWM8 #ArianaGrande</td>\n",
       "      <td>ariana grande white house easter egg roll in washington    arianagrande</td>\n",
       "    </tr>\n",
       "    <tr>\n",
       "      <td>3</td>\n",
       "      <td>1</td>\n",
       "      <td>#CD #Musics Ariana Grande Sweet Like Candy 3.4 oz 100 ML Sealed In Box 100% Authenic New https://t.co/oFmp0bOvZy… https://t.co/WIHLch9KtK</td>\n",
       "      <td>cd  musics ariana grande sweet like candy     oz     ml sealed in box      authenic new</td>\n",
       "    </tr>\n",
       "    <tr>\n",
       "      <td>4</td>\n",
       "      <td>1</td>\n",
       "      <td>SIDE TO SIDE 😘 @arianagrande #sidetoside #arianagrande #musically #comunidadgay #lgbt🌈  #LOTB… https://t.co/tEd8rftAxV</td>\n",
       "      <td>side to side     sidetoside  arianagrande  musically  comunidadgay  lgbt    lotb</td>\n",
       "    </tr>\n",
       "  </tbody>\n",
       "</table>\n",
       "</div>"
      ],
      "text/plain": [
       "   label  \\\n",
       "0  0       \n",
       "1  1       \n",
       "2  1       \n",
       "3  1       \n",
       "4  1       \n",
       "\n",
       "                                                                                                                                       Tweet  \\\n",
       "0  #ArianaGrande Ari By Ariana Grande 80% Full https://t.co/ylhCMETHHW #Singer #Actress https://t.co/lTrb1JQiEA                                \n",
       "1  Ariana Grande KIIS FM Yours Truly CD listening party in Burbank https://t.co/ClQIcx8Z6V #ArianaGrande                                       \n",
       "2  Ariana Grande White House Easter Egg Roll in Washington https://t.co/jdjL9swWM8 #ArianaGrande                                               \n",
       "3  #CD #Musics Ariana Grande Sweet Like Candy 3.4 oz 100 ML Sealed In Box 100% Authenic New https://t.co/oFmp0bOvZy… https://t.co/WIHLch9KtK   \n",
       "4  SIDE TO SIDE 😘 @arianagrande #sidetoside #arianagrande #musically #comunidadgay #lgbt🌈  #LOTB… https://t.co/tEd8rftAxV                      \n",
       "\n",
       "                                                                                      TidyTweet  \n",
       "0   arianagrande ari by ariana grande     full    singer  actress                                \n",
       "1  ariana grande kiis fm yours truly cd listening party in burbank    arianagrande               \n",
       "2  ariana grande white house easter egg roll in washington    arianagrande                       \n",
       "3   cd  musics ariana grande sweet like candy     oz     ml sealed in box      authenic new      \n",
       "4  side to side     sidetoside  arianagrande  musically  comunidadgay  lgbt    lotb              "
      ]
     },
     "execution_count": 27,
     "metadata": {},
     "output_type": "execute_result"
    }
   ],
   "source": [
    "dataset.head()"
   ]
  },
  {
   "cell_type": "code",
   "execution_count": 28,
   "metadata": {},
   "outputs": [],
   "source": [
    "from  nltk.stem.porter import*\n",
    "stemmer = PorterStemmer()\n",
    "def stem_sentences(sentence):\n",
    "    tokens = sentence.split()\n",
    "    stemmed_tokens = [stemmer.stem(token) for token in tokens]\n",
    "    return ' '.join(stemmed_tokens)"
   ]
  },
  {
   "cell_type": "code",
   "execution_count": 29,
   "metadata": {},
   "outputs": [],
   "source": [
    "dataset['TidyTweet'] = (dataset['TidyTweet'].apply(stem_sentences))"
   ]
  },
  {
   "cell_type": "code",
   "execution_count": 33,
   "metadata": {},
   "outputs": [],
   "source": [
    "tweet_tokenizer  = TweetTokenizer()\n",
    "def tweetToken(tweet):\n",
    "    return tweet_tokenizer.tokenize(tweet)"
   ]
  },
  {
   "cell_type": "code",
   "execution_count": 34,
   "metadata": {},
   "outputs": [],
   "source": [
    "dataset['TweetToken'] =  dataset['TidyTweet'].apply(lambda x: tweetToken(x))"
   ]
  },
  {
   "cell_type": "code",
   "execution_count": 35,
   "metadata": {},
   "outputs": [
    {
     "data": {
      "text/html": [
       "<div>\n",
       "<style scoped>\n",
       "    .dataframe tbody tr th:only-of-type {\n",
       "        vertical-align: middle;\n",
       "    }\n",
       "\n",
       "    .dataframe tbody tr th {\n",
       "        vertical-align: top;\n",
       "    }\n",
       "\n",
       "    .dataframe thead th {\n",
       "        text-align: right;\n",
       "    }\n",
       "</style>\n",
       "<table border=\"1\" class=\"dataframe\">\n",
       "  <thead>\n",
       "    <tr style=\"text-align: right;\">\n",
       "      <th></th>\n",
       "      <th>label</th>\n",
       "      <th>Tweet</th>\n",
       "      <th>TidyTweet</th>\n",
       "      <th>TweetToken</th>\n",
       "    </tr>\n",
       "  </thead>\n",
       "  <tbody>\n",
       "    <tr>\n",
       "      <td>12005</td>\n",
       "      <td>1</td>\n",
       "      <td>@dansen17 update: Zac Efron kissing a puppy https://t.co/4hTw1U8Azs</td>\n",
       "      <td>updat zac efron kiss a puppi</td>\n",
       "      <td>[updat, zac, efron, kiss, a, puppi]</td>\n",
       "    </tr>\n",
       "    <tr>\n",
       "      <td>12006</td>\n",
       "      <td>0</td>\n",
       "      <td>#zac efron sex pic skins michelle sex https://t.co/EQFbbfuJSA</td>\n",
       "      <td>zac efron sex pic skin michel sex</td>\n",
       "      <td>[zac, efron, sex, pic, skin, michel, sex]</td>\n",
       "    </tr>\n",
       "    <tr>\n",
       "      <td>12007</td>\n",
       "      <td>1</td>\n",
       "      <td>First Look at Neighbors 2 with Zac Efron Shirtless! (PHOTO)... https://t.co/5C68gj5D9V #zacefron</td>\n",
       "      <td>first look at neighbor with zac efron shirtless photo zacefron</td>\n",
       "      <td>[first, look, at, neighbor, with, zac, efron, shirtless, photo, zacefron]</td>\n",
       "    </tr>\n",
       "    <tr>\n",
       "      <td>12008</td>\n",
       "      <td>1</td>\n",
       "      <td>zac efron poses nude #lovely libra porn https://t.co/ukneYt2Wl2</td>\n",
       "      <td>zac efron pose nude love libra porn</td>\n",
       "      <td>[zac, efron, pose, nude, love, libra, porn]</td>\n",
       "    </tr>\n",
       "    <tr>\n",
       "      <td>12009</td>\n",
       "      <td>0</td>\n",
       "      <td>#Fashion #Style The Paperboy (NEW Blu-ray Disc) Matthew McConaughey, Zac Efron, #NicoleKidman… https://t.co/zgHXBjdBg5</td>\n",
       "      <td>fashion style the paperboy new blu ray disc matthew mcconaughey zac efron nicolekidman</td>\n",
       "      <td>[fashion, style, the, paperboy, new, blu, ray, disc, matthew, mcconaughey, zac, efron, nicolekidman]</td>\n",
       "    </tr>\n",
       "  </tbody>\n",
       "</table>\n",
       "</div>"
      ],
      "text/plain": [
       "       label  \\\n",
       "12005  1       \n",
       "12006  0       \n",
       "12007  1       \n",
       "12008  1       \n",
       "12009  0       \n",
       "\n",
       "                                                                                                                        Tweet  \\\n",
       "12005  @dansen17 update: Zac Efron kissing a puppy https://t.co/4hTw1U8Azs                                                      \n",
       "12006  #zac efron sex pic skins michelle sex https://t.co/EQFbbfuJSA                                                            \n",
       "12007  First Look at Neighbors 2 with Zac Efron Shirtless! (PHOTO)... https://t.co/5C68gj5D9V #zacefron                         \n",
       "12008  zac efron poses nude #lovely libra porn https://t.co/ukneYt2Wl2                                                          \n",
       "12009  #Fashion #Style The Paperboy (NEW Blu-ray Disc) Matthew McConaughey, Zac Efron, #NicoleKidman… https://t.co/zgHXBjdBg5   \n",
       "\n",
       "                                                                                    TidyTweet  \\\n",
       "12005  updat zac efron kiss a puppi                                                             \n",
       "12006  zac efron sex pic skin michel sex                                                        \n",
       "12007  first look at neighbor with zac efron shirtless photo zacefron                           \n",
       "12008  zac efron pose nude love libra porn                                                      \n",
       "12009  fashion style the paperboy new blu ray disc matthew mcconaughey zac efron nicolekidman   \n",
       "\n",
       "                                                                                                 TweetToken  \n",
       "12005  [updat, zac, efron, kiss, a, puppi]                                                                   \n",
       "12006  [zac, efron, sex, pic, skin, michel, sex]                                                             \n",
       "12007  [first, look, at, neighbor, with, zac, efron, shirtless, photo, zacefron]                             \n",
       "12008  [zac, efron, pose, nude, love, libra, porn]                                                           \n",
       "12009  [fashion, style, the, paperboy, new, blu, ray, disc, matthew, mcconaughey, zac, efron, nicolekidman]  "
      ]
     },
     "execution_count": 35,
     "metadata": {},
     "output_type": "execute_result"
    }
   ],
   "source": [
    "dataset.tail()"
   ]
  },
  {
   "cell_type": "code",
   "execution_count": 61,
   "metadata": {},
   "outputs": [],
   "source": [
    "from sklearn.feature_extraction.text import TfidfVectorizer  \n",
    "tfidfconverter = TfidfVectorizer(max_features=2000, min_df=5, max_df=0.7,stop_words=stopwords.words('english'))  \n",
    "X = tfidfconverter.fit_transform(dataset.TidyTweet).toarray()"
   ]
  },
  {
   "cell_type": "code",
   "execution_count": 62,
   "metadata": {},
   "outputs": [
    {
     "name": "stdout",
     "output_type": "stream",
     "text": [
      "[0 1 1 ... 1 1 0]\n"
     ]
    }
   ],
   "source": [
    "y = dataset.iloc[:, 0].values\n",
    "print(y)"
   ]
  },
  {
   "cell_type": "code",
   "execution_count": 63,
   "metadata": {},
   "outputs": [],
   "source": [
    "from sklearn.model_selection import train_test_split  \n",
    "X_train, X_test, y_train, y_test = train_test_split(X, y, test_size=0.2, random_state=0)"
   ]
  },
  {
   "cell_type": "code",
   "execution_count": 64,
   "metadata": {},
   "outputs": [
    {
     "data": {
      "text/plain": [
       "RandomForestClassifier(bootstrap=True, class_weight=None, criterion='gini',\n",
       "                       max_depth=None, max_features='auto', max_leaf_nodes=None,\n",
       "                       min_impurity_decrease=0.0, min_impurity_split=None,\n",
       "                       min_samples_leaf=1, min_samples_split=2,\n",
       "                       min_weight_fraction_leaf=0.0, n_estimators=100,\n",
       "                       n_jobs=None, oob_score=False, random_state=0, verbose=0,\n",
       "                       warm_start=False)"
      ]
     },
     "execution_count": 64,
     "metadata": {},
     "output_type": "execute_result"
    }
   ],
   "source": [
    "from sklearn.ensemble import RandomForestClassifier\n",
    "text_classifier = RandomForestClassifier(n_estimators=100, random_state=0)  \n",
    "text_classifier.fit(X_train, y_train)"
   ]
  },
  {
   "cell_type": "code",
   "execution_count": 65,
   "metadata": {},
   "outputs": [
    {
     "name": "stdout",
     "output_type": "stream",
     "text": [
      "[[  1  32  12   1   0]\n",
      " [  0 360 317  20   0]\n",
      " [  1 162 912 113   0]\n",
      " [  0  16 238 187   0]\n",
      " [  0   0   8  20   2]]\n",
      "              precision    recall  f1-score   support\n",
      "\n",
      "          -2       0.50      0.02      0.04        46\n",
      "          -1       0.63      0.52      0.57       697\n",
      "           0       0.61      0.77      0.68      1188\n",
      "           1       0.55      0.42      0.48       441\n",
      "           2       1.00      0.07      0.12        30\n",
      "\n",
      "    accuracy                           0.61      2402\n",
      "   macro avg       0.66      0.36      0.38      2402\n",
      "weighted avg       0.61      0.61      0.59      2402\n",
      "\n",
      "0.6086594504579517\n"
     ]
    }
   ],
   "source": [
    "predictions = text_classifier.predict(X_test)\n",
    " \n",
    "from sklearn.metrics import classification_report, confusion_matrix, accuracy_score\n",
    " \n",
    "print(confusion_matrix(y_test,predictions))  \n",
    "print(classification_report(y_test,predictions))  \n",
    "print(accuracy_score(y_test, predictions))"
   ]
  },
  {
   "cell_type": "code",
   "execution_count": 66,
   "metadata": {},
   "outputs": [],
   "source": [
    "from sklearn.naive_bayes import GaussianNB\n",
    "gnb = GaussianNB()\n",
    "y_pred = gnb.fit(X_train, y_train).predict(X_test)"
   ]
  },
  {
   "cell_type": "code",
   "execution_count": 67,
   "metadata": {},
   "outputs": [
    {
     "name": "stdout",
     "output_type": "stream",
     "text": [
      "[[  4  26   2  14   0]\n",
      " [ 29 370  45 247   6]\n",
      " [ 34 325 144 646  39]\n",
      " [ 11  44  36 294  56]\n",
      " [  0   1   2  19   8]]\n",
      "              precision    recall  f1-score   support\n",
      "\n",
      "          -2       0.05      0.09      0.06        46\n",
      "          -1       0.48      0.53      0.51       697\n",
      "           0       0.63      0.12      0.20      1188\n",
      "           1       0.24      0.67      0.35       441\n",
      "           2       0.07      0.27      0.12        30\n",
      "\n",
      "    accuracy                           0.34      2402\n",
      "   macro avg       0.30      0.33      0.25      2402\n",
      "weighted avg       0.50      0.34      0.31      2402\n",
      "\n",
      "0.34138218151540384\n"
     ]
    }
   ],
   "source": [
    "from sklearn.metrics import classification_report, confusion_matrix, accuracy_score\n",
    " \n",
    "print(confusion_matrix(y_test,y_pred))  \n",
    "print(classification_report(y_test,y_pred))  \n",
    "print(accuracy_score(y_test, y_pred))"
   ]
  },
  {
   "cell_type": "code",
   "execution_count": null,
   "metadata": {},
   "outputs": [],
   "source": []
  }
 ],
 "metadata": {
  "kernelspec": {
   "display_name": "Python 3",
   "language": "python",
   "name": "python3"
  },
  "language_info": {
   "codemirror_mode": {
    "name": "ipython",
    "version": 3
   },
   "file_extension": ".py",
   "mimetype": "text/x-python",
   "name": "python",
   "nbconvert_exporter": "python",
   "pygments_lexer": "ipython3",
   "version": "3.7.4"
  }
 },
 "nbformat": 4,
 "nbformat_minor": 2
}
